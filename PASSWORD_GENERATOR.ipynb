{
  "nbformat": 4,
  "nbformat_minor": 0,
  "metadata": {
    "colab": {
      "provenance": []
    },
    "kernelspec": {
      "name": "python3",
      "display_name": "Python 3"
    },
    "language_info": {
      "name": "python"
    }
  },
  "cells": [
    {
      "cell_type": "code",
      "source": [
        "import random\n",
        "import string\n",
        "def generate_password():\n",
        "    try:\n",
        "        length = int(input(\"Enter password length: \"))\n",
        "        if length < 4:\n",
        "            print(\"Password length should be at least 4.\")\n",
        "            return\n",
        "\n",
        "        complexity = input(\"Choose complexity - (L)etters, (LN) Letters & Numbers, (LNS) Letters, Numbers & Symbols: \").upper()\n",
        "        char_sets = {\n",
        "            \"L\": string.ascii_letters,\n",
        "            \"LN\": string.ascii_letters + string.digits,\n",
        "            \"LNS\": string.ascii_letters + string.digits + string.punctuation\n",
        "        }\n",
        "        characters = char_sets.get(complexity, string.ascii_letters + string.digits + string.punctuation)\n",
        "        password = ''.join(random.choice(characters) for _ in range(length))\n",
        "        print(\"Generated Password:\", password)\n",
        "    except ValueError:\n",
        "        print(\"Invalid input! Please enter a valid number.\")\n",
        "generate_password()"
      ],
      "metadata": {
        "colab": {
          "base_uri": "https://localhost:8080/"
        },
        "id": "fv1g2MT-2Ttu",
        "outputId": "26ea3a70-1579-4676-c82e-80a44cedeb2a"
      },
      "execution_count": 6,
      "outputs": [
        {
          "output_type": "stream",
          "name": "stdout",
          "text": [
            "Enter password length: 14\n",
            "Choose complexity - (L)etters, (LN) Letters & Numbers, (LNS) Letters, Numbers & Symbols: LNS\n",
            "Generated Password: 0r]@B9.i\"N%6M~\n"
          ]
        }
      ]
    }
  ]
}