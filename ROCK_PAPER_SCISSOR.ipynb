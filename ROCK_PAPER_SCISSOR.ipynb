{
  "nbformat": 4,
  "nbformat_minor": 0,
  "metadata": {
    "colab": {
      "provenance": []
    },
    "kernelspec": {
      "name": "python3",
      "display_name": "Python 3"
    },
    "language_info": {
      "name": "python"
    }
  },
  "cells": [
    {
      "cell_type": "code",
      "source": [
        "import random\n",
        "import time\n",
        "def get_computer_choice():\n",
        "    return random.choice(['Rock', 'Paper', 'Scissors', 'Mystery'])\n",
        "def determine_winner(user, computer):\n",
        "    if user == \"Mystery\":\n",
        "        user = random.choice(['Rock', 'Paper', 'Scissors'])\n",
        "    if computer == \"Mystery\":\n",
        "        computer = random.choice(['Rock', 'Paper', 'Scissors'])\n",
        "    if user == computer:\n",
        "        return \"It's a tie!\"\n",
        "    elif (user == 'Rock' and computer == 'Scissors') or \\\n",
        "         (user == 'Scissors' and computer == 'Paper') or \\\n",
        "         (user == 'Paper' and computer == 'Rock'):\n",
        "        return \"You win!\"\n",
        "    else:\n",
        "        return \"Computer wins!\"\n",
        "def play():\n",
        "    user_choice = input(\"Enter Rock, Paper, Scissors, or Mystery: \").capitalize()\n",
        "    if user_choice not in ['Rock', 'Paper', 'Scissors', 'Mystery']:\n",
        "        print(\"Invalid choice. Try again.\")\n",
        "        return\n",
        "\n",
        "    print(\"Rock... Paper... Scissors... Shoot!\")\n",
        "    time.sleep(1)\n",
        "\n",
        "    computer_choice = get_computer_choice()\n",
        "    print(f\"Computer chose: {computer_choice}\")\n",
        "    print(determine_winner(user_choice, computer_choice))\n",
        "\n",
        "while True:\n",
        "    play()\n",
        "    replay = input(\"Do you want to play again? (yes/no): \").lower()\n",
        "    if replay != 'yes':\n",
        "        print(\"Thanks for playing!\")\n",
        "        break\n"
      ],
      "metadata": {
        "colab": {
          "base_uri": "https://localhost:8080/"
        },
        "id": "gKT7nqmJ5yXn",
        "outputId": "72671dc0-e10e-4b89-a3c3-25e715fdd6e4"
      },
      "execution_count": 4,
      "outputs": [
        {
          "output_type": "stream",
          "name": "stdout",
          "text": [
            "Enter Rock, Paper, Scissors, or Mystery: ROCK\n",
            "Rock... Paper... Scissors... Shoot!\n",
            "Computer chose: Mystery\n",
            "Computer wins!\n",
            "Do you want to play again? (yes/no): YES\n",
            "Enter Rock, Paper, Scissors, or Mystery: PAPER\n",
            "Rock... Paper... Scissors... Shoot!\n",
            "Computer chose: Mystery\n",
            "It's a tie!\n",
            "Do you want to play again? (yes/no): NO\n",
            "Thanks for playing!\n"
          ]
        }
      ]
    }
  ]
}